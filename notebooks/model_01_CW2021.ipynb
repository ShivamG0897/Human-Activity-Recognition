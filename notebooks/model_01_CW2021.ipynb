{
 "cells": [
  {
   "cell_type": "code",
   "execution_count": 1,
   "id": "0700ab62",
   "metadata": {},
   "outputs": [],
   "source": [
    "\n",
    "import pandas as pd\n",
    "import numpy as np\n",
    "from matplotlib import pyplot as plt\n",
    "import seaborn as sns"
   ]
  },
  {
   "cell_type": "code",
   "execution_count": 2,
   "id": "0544c932",
   "metadata": {},
   "outputs": [],
   "source": [
    "dset_trn = pd.read_csv('metadata.csv')\n",
    "dset_tst = pd.read_csv('metadata_test.csv')"
   ]
  },
  {
   "cell_type": "code",
   "execution_count": 3,
   "id": "0a6dfd40",
   "metadata": {},
   "outputs": [],
   "source": [
    "X_train = dset_trn.drop(columns=['user_snippet','activity']).to_numpy()\n",
    "X_test = dset_tst.drop(columns='user_snippet').to_numpy()\n",
    "y_train = dset_trn['activity'].to_numpy()"
   ]
  },
  {
   "cell_type": "code",
   "execution_count": 4,
   "id": "e0036b12",
   "metadata": {},
   "outputs": [],
   "source": [
    "from sklearn import  preprocessing \n",
    "\n",
    "mm_scaler = preprocessing.StandardScaler()  # creates a Transformer (set of preprocessing operations)\n",
    "X_train = mm_scaler.fit_transform(X_train)  # estimates transformation parameters using the training set, and applies to them\n",
    "X_test = mm_scaler.transform(X_test) "
   ]
  },
  {
   "cell_type": "code",
   "execution_count": 14,
   "id": "7f931bfc",
   "metadata": {},
   "outputs": [],
   "source": [
    "from sklearn.linear_model import LogisticRegression\n",
    "\n",
    "lr_mdl = LogisticRegression(max_iter = 1200)"
   ]
  },
  {
   "cell_type": "code",
   "execution_count": 15,
   "id": "091367f6",
   "metadata": {},
   "outputs": [
    {
     "data": {
      "text/plain": [
       "LogisticRegression(max_iter=1200)"
      ]
     },
     "execution_count": 15,
     "metadata": {},
     "output_type": "execute_result"
    }
   ],
   "source": [
    "lr_mdl.fit(X_train, y_train)"
   ]
  },
  {
   "cell_type": "code",
   "execution_count": 20,
   "id": "cd62106d",
   "metadata": {},
   "outputs": [
    {
     "data": {
      "text/html": [
       "<div>\n",
       "<style scoped>\n",
       "    .dataframe tbody tr th:only-of-type {\n",
       "        vertical-align: middle;\n",
       "    }\n",
       "\n",
       "    .dataframe tbody tr th {\n",
       "        vertical-align: top;\n",
       "    }\n",
       "\n",
       "    .dataframe thead th {\n",
       "        text-align: right;\n",
       "    }\n",
       "</style>\n",
       "<table border=\"1\" class=\"dataframe\">\n",
       "  <thead>\n",
       "    <tr style=\"text-align: right;\">\n",
       "      <th></th>\n",
       "      <th>user_snippet</th>\n",
       "      <th>Prediction</th>\n",
       "    </tr>\n",
       "  </thead>\n",
       "  <tbody>\n",
       "    <tr>\n",
       "      <th>0</th>\n",
       "      <td>2066_0</td>\n",
       "      <td>Upstairs</td>\n",
       "    </tr>\n",
       "    <tr>\n",
       "      <th>1</th>\n",
       "      <td>2066_1</td>\n",
       "      <td>Walking</td>\n",
       "    </tr>\n",
       "    <tr>\n",
       "      <th>2</th>\n",
       "      <td>2066_2</td>\n",
       "      <td>Jogging</td>\n",
       "    </tr>\n",
       "    <tr>\n",
       "      <th>3</th>\n",
       "      <td>2066_3</td>\n",
       "      <td>Walking</td>\n",
       "    </tr>\n",
       "    <tr>\n",
       "      <th>4</th>\n",
       "      <td>2066_4</td>\n",
       "      <td>Walking</td>\n",
       "    </tr>\n",
       "  </tbody>\n",
       "</table>\n",
       "</div>"
      ],
      "text/plain": [
       "  user_snippet Prediction\n",
       "0       2066_0   Upstairs\n",
       "1       2066_1    Walking\n",
       "2       2066_2    Jogging\n",
       "3       2066_3    Walking\n",
       "4       2066_4    Walking"
      ]
     },
     "execution_count": 20,
     "metadata": {},
     "output_type": "execute_result"
    }
   ],
   "source": [
    "y_tst_lr = lr_mdl.predict(X_test)\n",
    "\n",
    "dset_sol_lr = pd.DataFrame({\"user_snippet\": dset_tst.user_snippet, \"Prediction\" : y_tst_lr})\n",
    "dset_sol_lr.head()"
   ]
  },
  {
   "cell_type": "code",
   "execution_count": 21,
   "id": "bea036eb",
   "metadata": {},
   "outputs": [],
   "source": [
    "dset_sol_lr.to_csv(\"activityprediction_1.csv\", index=False)"
   ]
  },
  {
   "cell_type": "code",
   "execution_count": 22,
   "id": "106af4d5",
   "metadata": {},
   "outputs": [],
   "source": [
    "#dset_trn.drop(columns=['x-axis__median','x-axis__length','x-axis__standard_deviation','x-axis__variance','y-axis__median','y-axis__length','y-axis__standard_deviation','y-axis__variance','z-axis__median','z-axis__length','z-axis__standard_deviation','z-axis__variance'],inplace=True)"
   ]
  },
  {
   "cell_type": "code",
   "execution_count": 23,
   "id": "a73c16ec",
   "metadata": {},
   "outputs": [],
   "source": [
    "#dset_tst.drop(columns=['x-axis__median','x-axis__length','x-axis__standard_deviation','x-axis__variance','y-axis__median','y-axis__length','y-axis__standard_deviation','y-axis__variance','z-axis__median','z-axis__length','z-axis__standard_deviation','z-axis__variance'],inplace=True)"
   ]
  },
  {
   "cell_type": "code",
   "execution_count": 24,
   "id": "10ba9342",
   "metadata": {},
   "outputs": [],
   "source": [
    "X_train = dset_trn.drop(columns=['user_snippet','activity']).to_numpy()\n",
    "X_test = dset_tst.drop(columns='user_snippet').to_numpy()\n",
    "y_train = dset_trn['activity'].to_numpy()"
   ]
  },
  {
   "cell_type": "code",
   "execution_count": 25,
   "id": "e61e355c",
   "metadata": {},
   "outputs": [],
   "source": [
    "from sklearn import  preprocessing \n",
    "\n",
    "mm_scaler = preprocessing.StandardScaler()  # creates a Transformer (set of preprocessing operations)\n",
    "X_train = mm_scaler.fit_transform(X_train)  # estimates transformation parameters using the training set, and applies to them\n",
    "X_test = mm_scaler.transform(X_test) "
   ]
  },
  {
   "cell_type": "code",
   "execution_count": 26,
   "id": "eefbba3c",
   "metadata": {},
   "outputs": [],
   "source": [
    "from sklearn.linear_model import LogisticRegression\n",
    "\n",
    "lr_mdl = LogisticRegression(max_iter = 1200)"
   ]
  },
  {
   "cell_type": "code",
   "execution_count": 27,
   "id": "677a0db7",
   "metadata": {},
   "outputs": [
    {
     "data": {
      "text/plain": [
       "LogisticRegression(max_iter=1200)"
      ]
     },
     "execution_count": 27,
     "metadata": {},
     "output_type": "execute_result"
    }
   ],
   "source": [
    "lr_mdl.fit(X_train, y_train)"
   ]
  },
  {
   "cell_type": "code",
   "execution_count": 28,
   "id": "5f502fdc",
   "metadata": {},
   "outputs": [
    {
     "data": {
      "text/html": [
       "<div>\n",
       "<style scoped>\n",
       "    .dataframe tbody tr th:only-of-type {\n",
       "        vertical-align: middle;\n",
       "    }\n",
       "\n",
       "    .dataframe tbody tr th {\n",
       "        vertical-align: top;\n",
       "    }\n",
       "\n",
       "    .dataframe thead th {\n",
       "        text-align: right;\n",
       "    }\n",
       "</style>\n",
       "<table border=\"1\" class=\"dataframe\">\n",
       "  <thead>\n",
       "    <tr style=\"text-align: right;\">\n",
       "      <th></th>\n",
       "      <th>user_snippet</th>\n",
       "      <th>Prediction</th>\n",
       "    </tr>\n",
       "  </thead>\n",
       "  <tbody>\n",
       "    <tr>\n",
       "      <th>0</th>\n",
       "      <td>2066_0</td>\n",
       "      <td>Downstairs</td>\n",
       "    </tr>\n",
       "    <tr>\n",
       "      <th>1</th>\n",
       "      <td>2066_1</td>\n",
       "      <td>Walking</td>\n",
       "    </tr>\n",
       "    <tr>\n",
       "      <th>2</th>\n",
       "      <td>2066_2</td>\n",
       "      <td>Jogging</td>\n",
       "    </tr>\n",
       "    <tr>\n",
       "      <th>3</th>\n",
       "      <td>2066_3</td>\n",
       "      <td>Walking</td>\n",
       "    </tr>\n",
       "    <tr>\n",
       "      <th>4</th>\n",
       "      <td>2066_4</td>\n",
       "      <td>Walking</td>\n",
       "    </tr>\n",
       "  </tbody>\n",
       "</table>\n",
       "</div>"
      ],
      "text/plain": [
       "  user_snippet  Prediction\n",
       "0       2066_0  Downstairs\n",
       "1       2066_1     Walking\n",
       "2       2066_2     Jogging\n",
       "3       2066_3     Walking\n",
       "4       2066_4     Walking"
      ]
     },
     "execution_count": 28,
     "metadata": {},
     "output_type": "execute_result"
    }
   ],
   "source": [
    "y_tst_lr = lr_mdl.predict(X_test)\n",
    "\n",
    "dset_sol_lr = pd.DataFrame({\"user_snippet\": dset_tst.user_snippet, \"Prediction\" : y_tst_lr})\n",
    "dset_sol_lr.head()"
   ]
  },
  {
   "cell_type": "code",
   "execution_count": 29,
   "id": "e0e4e93f",
   "metadata": {},
   "outputs": [],
   "source": [
    "dset_sol_lr.to_csv(\"activityprediction_2.csv\", index=False)"
   ]
  },
  {
   "cell_type": "code",
   "execution_count": null,
   "id": "85380dae",
   "metadata": {},
   "outputs": [],
   "source": []
  },
  {
   "cell_type": "code",
   "execution_count": null,
   "id": "e7b5299c",
   "metadata": {},
   "outputs": [],
   "source": []
  }
 ],
 "metadata": {
  "kernelspec": {
   "display_name": "Python 3 (ipykernel)",
   "language": "python",
   "name": "python3"
  },
  "language_info": {
   "codemirror_mode": {
    "name": "ipython",
    "version": 3
   },
   "file_extension": ".py",
   "mimetype": "text/x-python",
   "name": "python",
   "nbconvert_exporter": "python",
   "pygments_lexer": "ipython3",
   "version": "3.9.7"
  }
 },
 "nbformat": 4,
 "nbformat_minor": 5
}
