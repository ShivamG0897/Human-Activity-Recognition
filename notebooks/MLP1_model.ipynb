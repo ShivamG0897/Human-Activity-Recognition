{
 "cells": [
  {
   "cell_type": "code",
   "execution_count": 2,
   "id": "6ecdb7d9",
   "metadata": {},
   "outputs": [],
   "source": [
    "import pandas as pd\n",
    "import numpy as np\n",
    "from matplotlib import pyplot as plt\n",
    "import seaborn as sns\n",
    "%matplotlib inline\n",
    "\n",
    "dset_trn = pd.read_csv('metadata.csv')\n",
    "dset_tst = pd.read_csv('metadata_test.csv')"
   ]
  },
  {
   "cell_type": "code",
   "execution_count": 3,
   "id": "5a24f36b",
   "metadata": {},
   "outputs": [
    {
     "data": {
      "text/html": [
       "<div>\n",
       "<style scoped>\n",
       "    .dataframe tbody tr th:only-of-type {\n",
       "        vertical-align: middle;\n",
       "    }\n",
       "\n",
       "    .dataframe tbody tr th {\n",
       "        vertical-align: top;\n",
       "    }\n",
       "\n",
       "    .dataframe thead th {\n",
       "        text-align: right;\n",
       "    }\n",
       "</style>\n",
       "<table border=\"1\" class=\"dataframe\">\n",
       "  <thead>\n",
       "    <tr style=\"text-align: right;\">\n",
       "      <th></th>\n",
       "      <th>user_snippet</th>\n",
       "      <th>x-axis__sum_values</th>\n",
       "      <th>x-axis__median</th>\n",
       "      <th>x-axis__mean</th>\n",
       "      <th>x-axis__length</th>\n",
       "      <th>x-axis__standard_deviation</th>\n",
       "      <th>x-axis__variance</th>\n",
       "      <th>x-axis__root_mean_square</th>\n",
       "      <th>x-axis__maximum</th>\n",
       "      <th>x-axis__absolute_maximum</th>\n",
       "      <th>...</th>\n",
       "      <th>z-axis__median</th>\n",
       "      <th>z-axis__mean</th>\n",
       "      <th>z-axis__length</th>\n",
       "      <th>z-axis__standard_deviation</th>\n",
       "      <th>z-axis__variance</th>\n",
       "      <th>z-axis__root_mean_square</th>\n",
       "      <th>z-axis__maximum</th>\n",
       "      <th>z-axis__absolute_maximum</th>\n",
       "      <th>z-axis__minimum</th>\n",
       "      <th>activity</th>\n",
       "    </tr>\n",
       "  </thead>\n",
       "  <tbody>\n",
       "    <tr>\n",
       "      <th>0</th>\n",
       "      <td>1008_0</td>\n",
       "      <td>-208.00</td>\n",
       "      <td>-1.820</td>\n",
       "      <td>-2.0800</td>\n",
       "      <td>100.0</td>\n",
       "      <td>4.702672</td>\n",
       "      <td>22.115124</td>\n",
       "      <td>5.142132</td>\n",
       "      <td>7.55</td>\n",
       "      <td>15.98</td>\n",
       "      <td>...</td>\n",
       "      <td>1.800</td>\n",
       "      <td>2.4245</td>\n",
       "      <td>100.0</td>\n",
       "      <td>3.994139</td>\n",
       "      <td>15.953143</td>\n",
       "      <td>4.672402</td>\n",
       "      <td>14.29</td>\n",
       "      <td>14.29</td>\n",
       "      <td>-4.40</td>\n",
       "      <td>Upstairs</td>\n",
       "    </tr>\n",
       "    <tr>\n",
       "      <th>1</th>\n",
       "      <td>1008_1</td>\n",
       "      <td>29.04</td>\n",
       "      <td>0.515</td>\n",
       "      <td>0.2904</td>\n",
       "      <td>100.0</td>\n",
       "      <td>2.650530</td>\n",
       "      <td>7.025310</td>\n",
       "      <td>2.666391</td>\n",
       "      <td>5.94</td>\n",
       "      <td>8.77</td>\n",
       "      <td>...</td>\n",
       "      <td>2.315</td>\n",
       "      <td>2.5945</td>\n",
       "      <td>100.0</td>\n",
       "      <td>3.144090</td>\n",
       "      <td>9.885305</td>\n",
       "      <td>4.076363</td>\n",
       "      <td>14.63</td>\n",
       "      <td>14.63</td>\n",
       "      <td>-5.79</td>\n",
       "      <td>Upstairs</td>\n",
       "    </tr>\n",
       "    <tr>\n",
       "      <th>2</th>\n",
       "      <td>1008_2</td>\n",
       "      <td>-160.29</td>\n",
       "      <td>-0.960</td>\n",
       "      <td>-1.6029</td>\n",
       "      <td>100.0</td>\n",
       "      <td>5.706680</td>\n",
       "      <td>32.566195</td>\n",
       "      <td>5.927519</td>\n",
       "      <td>9.77</td>\n",
       "      <td>17.58</td>\n",
       "      <td>...</td>\n",
       "      <td>-0.150</td>\n",
       "      <td>0.2158</td>\n",
       "      <td>100.0</td>\n",
       "      <td>4.570115</td>\n",
       "      <td>20.885948</td>\n",
       "      <td>4.575207</td>\n",
       "      <td>9.53</td>\n",
       "      <td>9.53</td>\n",
       "      <td>-7.31</td>\n",
       "      <td>Walking</td>\n",
       "    </tr>\n",
       "    <tr>\n",
       "      <th>3</th>\n",
       "      <td>1008_3</td>\n",
       "      <td>-138.32</td>\n",
       "      <td>-1.880</td>\n",
       "      <td>-1.3832</td>\n",
       "      <td>100.0</td>\n",
       "      <td>4.058896</td>\n",
       "      <td>16.474640</td>\n",
       "      <td>4.288109</td>\n",
       "      <td>6.55</td>\n",
       "      <td>12.68</td>\n",
       "      <td>...</td>\n",
       "      <td>1.470</td>\n",
       "      <td>2.6332</td>\n",
       "      <td>100.0</td>\n",
       "      <td>5.770800</td>\n",
       "      <td>33.302128</td>\n",
       "      <td>6.343175</td>\n",
       "      <td>14.63</td>\n",
       "      <td>14.63</td>\n",
       "      <td>-6.66</td>\n",
       "      <td>Jogging</td>\n",
       "    </tr>\n",
       "    <tr>\n",
       "      <th>4</th>\n",
       "      <td>1008_4</td>\n",
       "      <td>-184.32</td>\n",
       "      <td>-2.010</td>\n",
       "      <td>-1.8432</td>\n",
       "      <td>100.0</td>\n",
       "      <td>3.824956</td>\n",
       "      <td>14.630286</td>\n",
       "      <td>4.245901</td>\n",
       "      <td>7.65</td>\n",
       "      <td>8.69</td>\n",
       "      <td>...</td>\n",
       "      <td>1.570</td>\n",
       "      <td>2.2103</td>\n",
       "      <td>100.0</td>\n",
       "      <td>5.811536</td>\n",
       "      <td>33.773949</td>\n",
       "      <td>6.217666</td>\n",
       "      <td>18.16</td>\n",
       "      <td>18.16</td>\n",
       "      <td>-9.38</td>\n",
       "      <td>Jogging</td>\n",
       "    </tr>\n",
       "  </tbody>\n",
       "</table>\n",
       "<p>5 rows × 32 columns</p>\n",
       "</div>"
      ],
      "text/plain": [
       "  user_snippet  x-axis__sum_values  x-axis__median  x-axis__mean  \\\n",
       "0       1008_0             -208.00          -1.820       -2.0800   \n",
       "1       1008_1               29.04           0.515        0.2904   \n",
       "2       1008_2             -160.29          -0.960       -1.6029   \n",
       "3       1008_3             -138.32          -1.880       -1.3832   \n",
       "4       1008_4             -184.32          -2.010       -1.8432   \n",
       "\n",
       "   x-axis__length  x-axis__standard_deviation  x-axis__variance  \\\n",
       "0           100.0                    4.702672         22.115124   \n",
       "1           100.0                    2.650530          7.025310   \n",
       "2           100.0                    5.706680         32.566195   \n",
       "3           100.0                    4.058896         16.474640   \n",
       "4           100.0                    3.824956         14.630286   \n",
       "\n",
       "   x-axis__root_mean_square  x-axis__maximum  x-axis__absolute_maximum  ...  \\\n",
       "0                  5.142132             7.55                     15.98  ...   \n",
       "1                  2.666391             5.94                      8.77  ...   \n",
       "2                  5.927519             9.77                     17.58  ...   \n",
       "3                  4.288109             6.55                     12.68  ...   \n",
       "4                  4.245901             7.65                      8.69  ...   \n",
       "\n",
       "   z-axis__median  z-axis__mean  z-axis__length  z-axis__standard_deviation  \\\n",
       "0           1.800        2.4245           100.0                    3.994139   \n",
       "1           2.315        2.5945           100.0                    3.144090   \n",
       "2          -0.150        0.2158           100.0                    4.570115   \n",
       "3           1.470        2.6332           100.0                    5.770800   \n",
       "4           1.570        2.2103           100.0                    5.811536   \n",
       "\n",
       "   z-axis__variance  z-axis__root_mean_square  z-axis__maximum  \\\n",
       "0         15.953143                  4.672402            14.29   \n",
       "1          9.885305                  4.076363            14.63   \n",
       "2         20.885948                  4.575207             9.53   \n",
       "3         33.302128                  6.343175            14.63   \n",
       "4         33.773949                  6.217666            18.16   \n",
       "\n",
       "   z-axis__absolute_maximum  z-axis__minimum  activity  \n",
       "0                     14.29            -4.40  Upstairs  \n",
       "1                     14.63            -5.79  Upstairs  \n",
       "2                      9.53            -7.31   Walking  \n",
       "3                     14.63            -6.66   Jogging  \n",
       "4                     18.16            -9.38   Jogging  \n",
       "\n",
       "[5 rows x 32 columns]"
      ]
     },
     "execution_count": 3,
     "metadata": {},
     "output_type": "execute_result"
    }
   ],
   "source": [
    "dset_trn.head()"
   ]
  },
  {
   "cell_type": "code",
   "execution_count": 4,
   "id": "2e5fb623",
   "metadata": {},
   "outputs": [],
   "source": [
    "dset_trn1 = pd.read_csv('signals.csv')\n",
    "dset_tst1 = pd.read_csv('signals_test.csv')"
   ]
  },
  {
   "cell_type": "code",
   "execution_count": 5,
   "id": "e3a2076d",
   "metadata": {},
   "outputs": [
    {
     "data": {
      "text/html": [
       "<div>\n",
       "<style scoped>\n",
       "    .dataframe tbody tr th:only-of-type {\n",
       "        vertical-align: middle;\n",
       "    }\n",
       "\n",
       "    .dataframe tbody tr th {\n",
       "        vertical-align: top;\n",
       "    }\n",
       "\n",
       "    .dataframe thead th {\n",
       "        text-align: right;\n",
       "    }\n",
       "</style>\n",
       "<table border=\"1\" class=\"dataframe\">\n",
       "  <thead>\n",
       "    <tr style=\"text-align: right;\">\n",
       "      <th></th>\n",
       "      <th>user_snippet</th>\n",
       "      <th>x-axis</th>\n",
       "      <th>y-axis</th>\n",
       "      <th>z-axis</th>\n",
       "      <th>timestamp</th>\n",
       "    </tr>\n",
       "  </thead>\n",
       "  <tbody>\n",
       "    <tr>\n",
       "      <th>0</th>\n",
       "      <td>1008_0</td>\n",
       "      <td>-5.01</td>\n",
       "      <td>10.99</td>\n",
       "      <td>4.75</td>\n",
       "      <td>0.0</td>\n",
       "    </tr>\n",
       "    <tr>\n",
       "      <th>1</th>\n",
       "      <td>1008_0</td>\n",
       "      <td>-2.72</td>\n",
       "      <td>13.25</td>\n",
       "      <td>4.44</td>\n",
       "      <td>50.0</td>\n",
       "    </tr>\n",
       "    <tr>\n",
       "      <th>2</th>\n",
       "      <td>1008_0</td>\n",
       "      <td>5.41</td>\n",
       "      <td>13.18</td>\n",
       "      <td>1.27</td>\n",
       "      <td>100.0</td>\n",
       "    </tr>\n",
       "    <tr>\n",
       "      <th>3</th>\n",
       "      <td>1008_0</td>\n",
       "      <td>-1.80</td>\n",
       "      <td>0.15</td>\n",
       "      <td>-2.72</td>\n",
       "      <td>150.0</td>\n",
       "    </tr>\n",
       "    <tr>\n",
       "      <th>4</th>\n",
       "      <td>1008_0</td>\n",
       "      <td>-2.91</td>\n",
       "      <td>-3.87</td>\n",
       "      <td>-2.49</td>\n",
       "      <td>200.0</td>\n",
       "    </tr>\n",
       "  </tbody>\n",
       "</table>\n",
       "</div>"
      ],
      "text/plain": [
       "  user_snippet  x-axis  y-axis  z-axis  timestamp\n",
       "0       1008_0   -5.01   10.99    4.75        0.0\n",
       "1       1008_0   -2.72   13.25    4.44       50.0\n",
       "2       1008_0    5.41   13.18    1.27      100.0\n",
       "3       1008_0   -1.80    0.15   -2.72      150.0\n",
       "4       1008_0   -2.91   -3.87   -2.49      200.0"
      ]
     },
     "execution_count": 5,
     "metadata": {},
     "output_type": "execute_result"
    }
   ],
   "source": [
    "dset_trn1.head()"
   ]
  },
  {
   "cell_type": "code",
   "execution_count": 6,
   "id": "f7fdae18",
   "metadata": {},
   "outputs": [
    {
     "data": {
      "text/plain": [
       "(811637, 5)"
      ]
     },
     "execution_count": 6,
     "metadata": {},
     "output_type": "execute_result"
    }
   ],
   "source": [
    "dset_trn1.shape"
   ]
  },
  {
   "cell_type": "code",
   "execution_count": 7,
   "id": "1a692dd5",
   "metadata": {},
   "outputs": [
    {
     "data": {
      "text/plain": [
       "(8129, 32)"
      ]
     },
     "execution_count": 7,
     "metadata": {},
     "output_type": "execute_result"
    }
   ],
   "source": [
    "dset_trn.shape"
   ]
  },
  {
   "cell_type": "code",
   "execution_count": 8,
   "id": "a793c080",
   "metadata": {
    "scrolled": true
   },
   "outputs": [
    {
     "data": {
      "text/plain": [
       "user_snippet                  0\n",
       "x-axis__sum_values            0\n",
       "x-axis__median                0\n",
       "x-axis__mean                  0\n",
       "x-axis__length                0\n",
       "x-axis__standard_deviation    0\n",
       "x-axis__variance              0\n",
       "x-axis__root_mean_square      0\n",
       "x-axis__maximum               0\n",
       "x-axis__absolute_maximum      0\n",
       "x-axis__minimum               0\n",
       "y-axis__sum_values            0\n",
       "y-axis__median                0\n",
       "y-axis__mean                  0\n",
       "y-axis__length                0\n",
       "y-axis__standard_deviation    0\n",
       "y-axis__variance              0\n",
       "y-axis__root_mean_square      0\n",
       "y-axis__maximum               0\n",
       "y-axis__absolute_maximum      0\n",
       "y-axis__minimum               0\n",
       "z-axis__sum_values            0\n",
       "z-axis__median                0\n",
       "z-axis__mean                  0\n",
       "z-axis__length                0\n",
       "z-axis__standard_deviation    0\n",
       "z-axis__variance              0\n",
       "z-axis__root_mean_square      0\n",
       "z-axis__maximum               0\n",
       "z-axis__absolute_maximum      0\n",
       "z-axis__minimum               0\n",
       "activity                      0\n",
       "dtype: int64"
      ]
     },
     "execution_count": 8,
     "metadata": {},
     "output_type": "execute_result"
    }
   ],
   "source": [
    "dset_trn.isna().sum() "
   ]
  },
  {
   "cell_type": "code",
   "execution_count": 31,
   "id": "31477ca7",
   "metadata": {},
   "outputs": [],
   "source": [
    "#dset_trn.drop(columns=['x-axis__median','x-axis__length','x-axis__standard_deviation','x-axis__variance','y-axis__median','y-axis__length','y-axis__standard_deviation','y-axis__variance','z-axis__median','z-axis__length','z-axis__standard_deviation','z-axis__variance'],inplace=True)"
   ]
  },
  {
   "cell_type": "code",
   "execution_count": 9,
   "id": "36eaf4ed",
   "metadata": {},
   "outputs": [
    {
     "data": {
      "text/plain": [
       "(8129, 32)"
      ]
     },
     "execution_count": 9,
     "metadata": {},
     "output_type": "execute_result"
    }
   ],
   "source": [
    "dset_trn.shape"
   ]
  },
  {
   "cell_type": "code",
   "execution_count": 32,
   "id": "64b9864f",
   "metadata": {},
   "outputs": [],
   "source": [
    "#dset_tst.drop(columns=['x-axis__median','x-axis__length','x-axis__standard_deviation','x-axis__variance','y-axis__median','y-axis__length','y-axis__standard_deviation','y-axis__variance','z-axis__median','z-axis__length','z-axis__standard_deviation','z-axis__variance'],inplace=True)"
   ]
  },
  {
   "cell_type": "code",
   "execution_count": 10,
   "id": "cf35cb3e",
   "metadata": {},
   "outputs": [],
   "source": [
    "X_train = dset_trn.drop(columns=['user_snippet','activity']).to_numpy()\n",
    "X_test = dset_tst.drop(columns='user_snippet').to_numpy()\n",
    "y_train = dset_trn['activity'].to_numpy()\n"
   ]
  },
  {
   "cell_type": "code",
   "execution_count": 11,
   "id": "5f2ca39d",
   "metadata": {},
   "outputs": [],
   "source": [
    "from sklearn import preprocessing\n",
    "\n",
    "mm_scaler = preprocessing.StandardScaler()  # creates a Transformer (set of preprocessing operations)\n",
    "X_train = mm_scaler.fit_transform(X_train)  # estimates transformation parameters using the training set, and applies to them\n",
    "X_test = mm_scaler.transform(X_test) # transforms test set using training set parameters."
   ]
  },
  {
   "cell_type": "code",
   "execution_count": 15,
   "id": "2fe13c83",
   "metadata": {
    "scrolled": true
   },
   "outputs": [],
   "source": [
    "from sklearn.neural_network import MLPClassifier\n",
    "mlp_mdl = MLPClassifier(hidden_layer_sizes=(5,),random_state=42, max_iter=1000)"
   ]
  },
  {
   "cell_type": "code",
   "execution_count": 16,
   "id": "d31d21a4",
   "metadata": {},
   "outputs": [
    {
     "data": {
      "text/plain": [
       "MLPClassifier(hidden_layer_sizes=(5,), max_iter=1000, random_state=42)"
      ]
     },
     "execution_count": 16,
     "metadata": {},
     "output_type": "execute_result"
    }
   ],
   "source": [
    "mlp_mdl.fit(X_train, y_train)"
   ]
  },
  {
   "cell_type": "code",
   "execution_count": 18,
   "id": "36a14954",
   "metadata": {},
   "outputs": [
    {
     "data": {
      "text/html": [
       "<div>\n",
       "<style scoped>\n",
       "    .dataframe tbody tr th:only-of-type {\n",
       "        vertical-align: middle;\n",
       "    }\n",
       "\n",
       "    .dataframe tbody tr th {\n",
       "        vertical-align: top;\n",
       "    }\n",
       "\n",
       "    .dataframe thead th {\n",
       "        text-align: right;\n",
       "    }\n",
       "</style>\n",
       "<table border=\"1\" class=\"dataframe\">\n",
       "  <thead>\n",
       "    <tr style=\"text-align: right;\">\n",
       "      <th></th>\n",
       "      <th>user_snippet</th>\n",
       "      <th>Prediction</th>\n",
       "    </tr>\n",
       "  </thead>\n",
       "  <tbody>\n",
       "    <tr>\n",
       "      <th>0</th>\n",
       "      <td>2066_0</td>\n",
       "      <td>Upstairs</td>\n",
       "    </tr>\n",
       "    <tr>\n",
       "      <th>1</th>\n",
       "      <td>2066_1</td>\n",
       "      <td>Walking</td>\n",
       "    </tr>\n",
       "    <tr>\n",
       "      <th>2</th>\n",
       "      <td>2066_2</td>\n",
       "      <td>Jogging</td>\n",
       "    </tr>\n",
       "    <tr>\n",
       "      <th>3</th>\n",
       "      <td>2066_3</td>\n",
       "      <td>Walking</td>\n",
       "    </tr>\n",
       "    <tr>\n",
       "      <th>4</th>\n",
       "      <td>2066_4</td>\n",
       "      <td>Walking</td>\n",
       "    </tr>\n",
       "  </tbody>\n",
       "</table>\n",
       "</div>"
      ],
      "text/plain": [
       "  user_snippet Prediction\n",
       "0       2066_0   Upstairs\n",
       "1       2066_1    Walking\n",
       "2       2066_2    Jogging\n",
       "3       2066_3    Walking\n",
       "4       2066_4    Walking"
      ]
     },
     "execution_count": 18,
     "metadata": {},
     "output_type": "execute_result"
    }
   ],
   "source": [
    "y_tst_lr2 = mlp_mdl.predict(X_test)\n",
    "\n",
    "dset_sol_lr2 = pd.DataFrame({\"user_snippet\": dset_tst.user_snippet, \"Prediction\" : y_tst_lr2})\n",
    "dset_sol_lr2.head()"
   ]
  },
  {
   "cell_type": "code",
   "execution_count": 19,
   "id": "f8c5a120",
   "metadata": {},
   "outputs": [],
   "source": [
    "dset_sol_lr2.to_csv(\"activityprediction_MLP1.csv\", index=False)"
   ]
  },
  {
   "cell_type": "code",
   "execution_count": null,
   "id": "5354de90",
   "metadata": {},
   "outputs": [],
   "source": []
  }
 ],
 "metadata": {
  "kernelspec": {
   "display_name": "Python 3 (ipykernel)",
   "language": "python",
   "name": "python3"
  },
  "language_info": {
   "codemirror_mode": {
    "name": "ipython",
    "version": 3
   },
   "file_extension": ".py",
   "mimetype": "text/x-python",
   "name": "python",
   "nbconvert_exporter": "python",
   "pygments_lexer": "ipython3",
   "version": "3.9.7"
  }
 },
 "nbformat": 4,
 "nbformat_minor": 5
}
