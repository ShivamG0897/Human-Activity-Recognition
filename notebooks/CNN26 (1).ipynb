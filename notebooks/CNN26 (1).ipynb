{
 "cells": [
  {
   "cell_type": "code",
   "execution_count": 1,
   "metadata": {
    "colab": {
     "base_uri": "https://localhost:8080/"
    },
    "id": "0h5yPkqpGQxI",
    "outputId": "506522c4-b323-4045-8b34-172fa251cc97"
   },
   "outputs": [
    {
     "ename": "ModuleNotFoundError",
     "evalue": "No module named 'google'",
     "output_type": "error",
     "traceback": [
      "\u001b[1;31m---------------------------------------------------------------------------\u001b[0m",
      "\u001b[1;31mModuleNotFoundError\u001b[0m                       Traceback (most recent call last)",
      "\u001b[1;32m~\\AppData\\Local\\Temp/ipykernel_4948/1408506528.py\u001b[0m in \u001b[0;36m<module>\u001b[1;34m\u001b[0m\n\u001b[1;32m----> 1\u001b[1;33m \u001b[1;32mfrom\u001b[0m \u001b[0mgoogle\u001b[0m\u001b[1;33m.\u001b[0m\u001b[0mcolab\u001b[0m \u001b[1;32mimport\u001b[0m \u001b[0mdrive\u001b[0m\u001b[1;33m\u001b[0m\u001b[1;33m\u001b[0m\u001b[0m\n\u001b[0m\u001b[0;32m      2\u001b[0m \u001b[0mdrive\u001b[0m\u001b[1;33m.\u001b[0m\u001b[0mmount\u001b[0m\u001b[1;33m(\u001b[0m\u001b[1;34m'/content/drive'\u001b[0m\u001b[1;33m)\u001b[0m\u001b[1;33m\u001b[0m\u001b[1;33m\u001b[0m\u001b[0m\n",
      "\u001b[1;31mModuleNotFoundError\u001b[0m: No module named 'google'"
     ]
    }
   ],
   "source": [
    "from google.colab import drive\n",
    "drive.mount('/content/drive')"
   ]
  },
  {
   "cell_type": "code",
   "execution_count": null,
   "metadata": {},
   "outputs": [],
   "source": []
  },
  {
   "cell_type": "code",
   "execution_count": null,
   "metadata": {
    "id": "ktNNSvTZHGKl"
   },
   "outputs": [],
   "source": [
    "import pandas as pd     # to handle data frames\n",
    "import numpy as np      # to manipulate matrices/vectors\n",
    "import matplotlib.pyplot as plt     # to generate plots\n",
    "\n",
    "# to allow for plots in notebooks\n",
    "%matplotlib inline "
   ]
  },
  {
   "cell_type": "code",
   "execution_count": null,
   "metadata": {
    "id": "4xvAsIVWHNH_"
   },
   "outputs": [],
   "source": [
    "from tensorflow.keras import Sequential\n",
    "from tensorflow.keras.layers import Dense"
   ]
  },
  {
   "cell_type": "code",
   "execution_count": null,
   "metadata": {
    "colab": {
     "base_uri": "https://localhost:8080/"
    },
    "id": "wNBNPZxQHX1g",
    "outputId": "497b3d84-0b8b-452c-caff-f488de4fab65"
   },
   "outputs": [],
   "source": [
    "dset_trn = pd.read_csv(\"/content/drive/MyDrive/7021/courswork_2021/metadata.csv\")  # reads csv files\n",
    "dset_trn.head() # shows the top rows of data\n",
    "dset_trn.shape"
   ]
  },
  {
   "cell_type": "code",
   "execution_count": null,
   "metadata": {
    "colab": {
     "base_uri": "https://localhost:8080/"
    },
    "id": "AdS8C4v2Hc_-",
    "outputId": "c4d1a2e2-8748-4ed6-ccd1-c0e35b74fa0a"
   },
   "outputs": [],
   "source": [
    "dset_tst = pd.read_csv(\"/content/drive/MyDrive/7021/courswork_2021/metadata_test.csv\")\n",
    "dset_tst.head()\n",
    "dset_tst.shape"
   ]
  },
  {
   "cell_type": "code",
   "execution_count": null,
   "metadata": {
    "id": "YJNmce4BHfMI"
   },
   "outputs": [],
   "source": [
    "X_train = dset_trn.drop(columns=['user_snippet','activity']).to_numpy()\n",
    "X_test = dset_tst.drop(columns='user_snippet').to_numpy()\n",
    "y_train = dset_trn['activity'].to_numpy()"
   ]
  },
  {
   "cell_type": "code",
   "execution_count": null,
   "metadata": {
    "id": "bCKzOW8qHnjz"
   },
   "outputs": [],
   "source": [
    "from sklearn.impute import SimpleImputer\n",
    "from sklearn.preprocessing import StandardScaler, OneHotEncoder"
   ]
  },
  {
   "cell_type": "code",
   "execution_count": null,
   "metadata": {
    "id": "6HAV0h2NHs9r"
   },
   "outputs": [],
   "source": [
    "numeric_transformer = StandardScaler()"
   ]
  },
  {
   "cell_type": "code",
   "execution_count": null,
   "metadata": {
    "colab": {
     "base_uri": "https://localhost:8080/"
    },
    "id": "wnV0vnY9Hyty",
    "outputId": "5ba3c906-0c3a-4ff2-f580-0d4a6a54ff1d"
   },
   "outputs": [],
   "source": [
    "from sklearn.impute import SimpleImputer\n",
    "from sklearn.preprocessing import StandardScaler, OneHotEncoder\n",
    "numeric_transformer = StandardScaler()\n",
    "X_train = numeric_transformer.fit_transform(X_train)  # estimates transformation parameters using the training set, and applies to them\n",
    "X_test = numeric_transformer.transform(X_test) \n",
    "X_train.shape"
   ]
  },
  {
   "cell_type": "code",
   "execution_count": null,
   "metadata": {
    "id": "JjTw-IEzKLny"
   },
   "outputs": [],
   "source": [
    "from sklearn.preprocessing import LabelEncoder\n",
    "\n",
    "# Convert target variable to integer format\n",
    "le = LabelEncoder()\n",
    "y_train = le.fit_transform(y_train)"
   ]
  },
  {
   "cell_type": "code",
   "execution_count": null,
   "metadata": {
    "id": "1XImdo8RMdj-"
   },
   "outputs": [],
   "source": [
    "from tensorflow.keras.utils import to_categorical\n",
    "y_train = to_categorical(y_train, 6)\n",
    "#y_test = to_categorical(y_test, 6)"
   ]
  },
  {
   "cell_type": "code",
   "execution_count": null,
   "metadata": {
    "colab": {
     "base_uri": "https://localhost:8080/"
    },
    "id": "roL_K0F-rIKs",
    "outputId": "8926ad97-faed-41af-f8d7-675f9a4a582e"
   },
   "outputs": [],
   "source": [
    "y_train"
   ]
  },
  {
   "cell_type": "code",
   "execution_count": null,
   "metadata": {
    "colab": {
     "base_uri": "https://localhost:8080/"
    },
    "id": "UfYSMXPLIeRt",
    "outputId": "15de768b-e4f2-4699-8d5b-ea16d40573a1"
   },
   "outputs": [],
   "source": [
    "from keras.models import Sequential\n",
    "from keras.layers import Dense\n",
    "from tensorflow.keras.layers import Dropout\n",
    "\n",
    "# Define CNN... \n",
    "model2 = Sequential()\n",
    "model2.add(Dense(350, activation='relu', input_shape=(30,))) # 350 neurons in the first layer and so on\n",
    "# Activation = 'relu' good for DNN\n",
    "# input_shape contains 30 because that is the total number of columns. \n",
    "model2.add(Dropout(0.25)) #Randomly deactiavtes 25% of the neurons in the layer.\n",
    "model2.add(Dense(100, activation='relu'))\n",
    "model2.add(Dropout(0.2))\n",
    "model2.add(Dense(50, activation='relu'))\n",
    "model2.add(Dropout(0.2))\n",
    "model2.add(Dense(6, activation='softmax'))\n",
    "model2.summary()\n",
    "# Compile the model\n",
    "model2.compile(loss='categorical_crossentropy', optimizer='adam', metrics=['accuracy'])\n",
    "\n",
    "# Train the model\n",
    "history = model2.fit(X_train, y_train, batch_size=62, epochs=50,verbose=1,validation_split=0.01)"
   ]
  },
  {
   "cell_type": "code",
   "execution_count": null,
   "metadata": {
    "colab": {
     "base_uri": "https://localhost:8080/",
     "height": 279
    },
    "id": "IUQoi65HKBPU",
    "outputId": "ef3876d5-91ea-493d-9cd9-9c92c7a6b7db"
   },
   "outputs": [],
   "source": [
    "def plot_history(history):\n",
    "    plt.figure()\n",
    "    plt.subplot(2,1,1)\n",
    "    plt.plot(history.history['loss'])\n",
    "    plt.plot(history.history['val_loss'])\n",
    "    plt.ylabel('loss')\n",
    "    plt.xlabel('epoch')\n",
    "    plt.legend(['train', 'validation'])\n",
    "    plt.subplot(2,1,2)\n",
    "    plt.plot(history.history['accuracy'])\n",
    "    plt.plot(history.history['val_accuracy'])\n",
    "    plt.ylabel('accuracy')\n",
    "    plt.xlabel('epoch')\n",
    "    plt.legend(['train', 'validation'])\n",
    "    return;\n",
    "\n",
    "plot_history(history)"
   ]
  },
  {
   "cell_type": "code",
   "execution_count": null,
   "metadata": {
    "colab": {
     "base_uri": "https://localhost:8080/"
    },
    "id": "xAKPx9dlLob0",
    "outputId": "1b4669f2-2cd2-4110-96cd-5ee40bb8858d"
   },
   "outputs": [],
   "source": [
    "\n",
    "y_prob = model2.predict(X_test) \n",
    "y_classes = y_prob.argmax(axis=-1)\n",
    "y=list(le.inverse_transform(y_classes))"
   ]
  },
  {
   "cell_type": "code",
   "execution_count": null,
   "metadata": {
    "colab": {
     "base_uri": "https://localhost:8080/",
     "height": 206
    },
    "id": "KYuxSw1cLwQz",
    "outputId": "2c877425-e178-41fb-85d9-93d33016c9b4"
   },
   "outputs": [],
   "source": [
    "df = pd.DataFrame({\"user_snippet\": dset_tst.user_snippet, 'prediction': y})\n",
    "df.head()"
   ]
  },
  {
   "cell_type": "code",
   "execution_count": null,
   "metadata": {
    "id": "25OAvDzNLo7k"
   },
   "outputs": [],
   "source": [
    "df.to_csv(\"/content/drive/MyDrive/7021/courswork_2021/activityprediction_CNN26.csv\", index=False)"
   ]
  }
 ],
 "metadata": {
  "colab": {
   "provenance": []
  },
  "kernelspec": {
   "display_name": "Python 3 (ipykernel)",
   "language": "python",
   "name": "python3"
  },
  "language_info": {
   "codemirror_mode": {
    "name": "ipython",
    "version": 3
   },
   "file_extension": ".py",
   "mimetype": "text/x-python",
   "name": "python",
   "nbconvert_exporter": "python",
   "pygments_lexer": "ipython3",
   "version": "3.9.7"
  }
 },
 "nbformat": 4,
 "nbformat_minor": 1
}
